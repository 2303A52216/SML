{
  "nbformat": 4,
  "nbformat_minor": 0,
  "metadata": {
    "colab": {
      "provenance": []
    },
    "kernelspec": {
      "name": "python3",
      "display_name": "Python 3"
    },
    "language_info": {
      "name": "python"
    }
  },
  "cells": [
    {
      "cell_type": "code",
      "execution_count": null,
      "metadata": {
        "id": "ghzX_WD0tz7b",
        "colab": {
          "base_uri": "https://localhost:8080/",
          "height": 449
        },
        "outputId": "f0922318-ecdf-41c1-94d3-0c71a3452418"
      },
      "outputs": [
        {
          "output_type": "display_data",
          "data": {
            "text/plain": [
              "<Figure size 640x480 with 1 Axes>"
            ],
            "image/png": "[encoded data removed]"
          },
          "metadata": {}
        }
      ],
      "source": [
        "#Question 1:\n",
        "#Given the following dataset:\n",
        "#X={1.3,1.5,2.6,2.6,3.2,3.9,4.2,3.7,3.10,3.0,11,6.7,1.9}.\n",
        "#Compute the density of the data using a histogram with 5 bins.\n",
        "\n",
        "import numpy as np\n",
        "import matplotlib.pyplot as plt\n",
        "x=np.array([1.3,1.5,2.6,2.6,3.2,3.9,4.2,3.7,3.10,3.0,11,6.7,1.9])\n",
        "plt.hist(x,bins=5)\n",
        "plt.xlabel(\"Value\")\n",
        "plt.ylabel(\"Density\")\n",
        "plt.show()"
      ]
    },
    {
      "cell_type": "code",
      "source": [
        "#Question 2\n",
        "#Find Mean, Median, Mode , Variance , Standard deviation , Range ,\n",
        "#Interquartile Range (IQR),  Skewness ,Kurtosis of x and y\n",
        "\n",
        "import numpy as np\n",
        "from scipy import stats as s\n",
        "import matplotlib.pyplot as plt\n",
        "x=[12,13,56,23,41,28,51]\n",
        "y=[51,63,37,88,33,72,81]"
      ],
      "metadata": {
        "id": "dhCJoIe8zcGo"
      },
      "execution_count": null,
      "outputs": []
    },
    {
      "cell_type": "code",
      "source": [
        "print(\"Mean of x is\",np.mean(x))\n",
        "print(\"Mean of y is\",np.mean(y))"
      ],
      "metadata": {
        "colab": {
          "base_uri": "https://localhost:8080/"
        },
        "id": "EHDPAUNY0j85",
        "outputId": "16d867e6-5eec-4e86-8c6a-1660dafab645"
      },
      "execution_count": null,
      "outputs": [
        {
          "output_type": "stream",
          "name": "stdout",
          "text": [
            "32.0\n",
            "60.714285714285715\n"
          ]
        }
      ]
    },
    {
      "cell_type": "code",
      "source": [
        "print(\"Median of x is\",np.median(x))\n",
        "print(\"Median of y is\",np.median(y))"
      ],
      "metadata": {
        "colab": {
          "base_uri": "https://localhost:8080/"
        },
        "id": "s_WB-zYI0o29",
        "outputId": "2765c86d-5da4-4207-9278-9705206ef2b0"
      },
      "execution_count": null,
      "outputs": [
        {
          "output_type": "stream",
          "name": "stdout",
          "text": [
            "Median of x is 28.0\n",
            "Median of y is 63.0\n"
          ]
        }
      ]
    },
    {
      "cell_type": "code",
      "source": [
        "print(\"Mode of x is\",s.mode(x))\n",
        "print(\"Mode of y is\",s.mode(y))"
      ],
      "metadata": {
        "colab": {
          "base_uri": "https://localhost:8080/"
        },
        "id": "1guLhgCq47Ds",
        "outputId": "12f9543b-ef52-405b-d942-bdb71f1a2d89"
      },
      "execution_count": null,
      "outputs": [
        {
          "output_type": "stream",
          "name": "stdout",
          "text": [
            "Mode of x is ModeResult(mode=12, count=1)\n",
            "Mode of y is ModeResult(mode=33, count=1)\n"
          ]
        }
      ]
    },
    {
      "cell_type": "code",
      "source": [
        "print(\"Variance of x is\",np.var(x))\n",
        "print(\"Variance of y is\",np.var(y))"
      ],
      "metadata": {
        "colab": {
          "base_uri": "https://localhost:8080/"
        },
        "id": "UZhQ38mt5DJK",
        "outputId": "96069268-9a35-47e6-e809-cc6448078765"
      },
      "execution_count": null,
      "outputs": [
        {
          "output_type": "stream",
          "name": "stdout",
          "text": [
            "Variance of x is 268.0\n",
            "Variance of y is 387.6326530612245\n"
          ]
        }
      ]
    },
    {
      "cell_type": "code",
      "source": [
        "print(\"Standard deviation of x is\",np.std(x))\n",
        "print(\"Standard deviation of y is\",np.std(y))"
      ],
      "metadata": {
        "colab": {
          "base_uri": "https://localhost:8080/"
        },
        "id": "n2hjJHVG5Kg2",
        "outputId": "1535783f-35f5-4d8d-e2dc-165ff2d5d07e"
      },
      "execution_count": null,
      "outputs": [
        {
          "output_type": "stream",
          "name": "stdout",
          "text": [
            "Standard deviation of x is 16.3707055437449\n",
            "Standard deviation of y is 19.68838878784205\n"
          ]
        }
      ]
    },
    {
      "cell_type": "code",
      "source": [
        "print(\"Range of x is\",max(x)-min(x))\n",
        "print(\"Range of y is\",max(y)-min(y))"
      ],
      "metadata": {
        "colab": {
          "base_uri": "https://localhost:8080/"
        },
        "id": "gGTEvywC5dQF",
        "outputId": "2fe2e260-3c84-4048-f695-57c969308e1c"
      },
      "execution_count": null,
      "outputs": [
        {
          "output_type": "stream",
          "name": "stdout",
          "text": [
            "Range of x is 44\n",
            "Range of y is 55\n"
          ]
        }
      ]
    },
    {
      "cell_type": "code",
      "source": [
        "print(\"Interquartile range of x is\",np.percentile(x,75)*np.percentile(x,25))\n",
        "print(\"Interquartile range of y is\",np.percentile(y,75)-np.percentile(y,25))"
      ],
      "metadata": {
        "colab": {
          "base_uri": "https://localhost:8080/"
        },
        "id": "alMuBSzE5qxR",
        "outputId": "b8a98aab-2175-4adf-da59-7fd334d97d28"
      },
      "execution_count": null,
      "outputs": [
        {
          "output_type": "stream",
          "name": "stdout",
          "text": [
            "Interquartile range of x is 828.0\n",
            "Interquartile range of y is 32.5\n"
          ]
        }
      ]
    },
    {
      "cell_type": "code",
      "source": [
        "print(\"Skewness of x is\",s.skew(x))\n",
        "print(\"Skewness of y is\",s.skew(y))"
      ],
      "metadata": {
        "colab": {
          "base_uri": "https://localhost:8080/"
        },
        "id": "jBj9Ky2X5xNT",
        "outputId": "7d4d6339-c4c4-41af-bc33-7314f5955324"
      },
      "execution_count": null,
      "outputs": [
        {
          "output_type": "stream",
          "name": "stdout",
          "text": [
            "Skewness of x is 0.18755223867066048\n",
            "Skewness of y is -0.10160487226954186\n"
          ]
        }
      ]
    },
    {
      "cell_type": "code",
      "source": [
        "print(\"Kurtosis of x is\",s.kurtosis(x))\n",
        "print(\"Kurtosis of y is\",s.kurtosis(y))"
      ],
      "metadata": {
        "colab": {
          "base_uri": "https://localhost:8080/"
        },
        "id": "t9PsYUga59hR",
        "outputId": "75540928-74df-48f5-c261-2caa86f82add"
      },
      "execution_count": null,
      "outputs": [
        {
          "output_type": "stream",
          "name": "stdout",
          "text": [
            "Kurtosis of x is -1.47684021258314\n",
            "Kurtosis of y is -1.4265295827972655\n"
          ]
        }
      ]
    },
    {
      "cell_type": "code",
      "source": [
        "#Question 3\n",
        "#From the above data Find Mean, Median, Mode, Variance, Standard\n",
        "#deviation, Range , Interquartile Range (IQR),  Skewness ,Kurtosis of\n",
        "#each feature.\n",
        "\n",
        "import pandas as pd\n",
        "import numpy as np\n",
        "from scipy import stats as s\n",
        "import matplotlib.pyplot as plt\n",
        "d=pd.read_csv('/content/sample_data/california_housing_test.csv')\n",
        "d"
      ],
      "metadata": {
        "colab": {
          "base_uri": "https://localhost:8080/",
          "height": 423
        },
        "id": "wfR7i3oQ6DhA",
        "outputId": "43ae614a-396d-405b-e906-87888b457ec5"
      },
      "execution_count": null,
      "outputs": [
        {
          "output_type": "execute_result",
          "data": {
            "text/plain": [
              "      longitude  latitude  housing_median_age  total_rooms  total_bedrooms  \\\n",
              "0       -122.05     37.37                27.0       3885.0           661.0   \n",
              "1       -118.30     34.26                43.0       1510.0           310.0   \n",
              "2       -117.81     33.78                27.0       3589.0           507.0   \n",
              "3       -118.36     33.82                28.0         67.0            15.0   \n",
              "4       -119.67     36.33                19.0       1241.0           244.0   \n",
              "...         ...       ...                 ...          ...             ...   \n",
              "2995    -119.86     34.42                23.0       1450.0           642.0   \n",
              "2996    -118.14     34.06                27.0       5257.0          1082.0   \n",
              "2997    -119.70     36.30                10.0        956.0           201.0   \n",
              "2998    -117.12     34.10                40.0         96.0            14.0   \n",
              "2999    -119.63     34.42                42.0       1765.0           263.0   \n",
              "\n",
              "      population  households  median_income  median_house_value  \n",
              "0         1537.0       606.0         6.6085            344700.0  \n",
              "1          809.0       277.0         3.5990            176500.0  \n",
              "2         1484.0       495.0         5.7934            270500.0  \n",
              "3           49.0        11.0         6.1359            330000.0  \n",
              "4          850.0       237.0         2.9375             81700.0  \n",
              "...          ...         ...            ...                 ...  \n",
              "2995      1258.0       607.0         1.1790            225000.0  \n",
              "2996      3496.0      1036.0         3.3906            237200.0  \n",
              "2997       693.0       220.0         2.2895             62000.0  \n",
              "2998        46.0        14.0         3.2708            162500.0  \n",
              "2999       753.0       260.0         8.5608            500001.0  \n",
              "\n",
              "[3000 rows x 9 columns]"
            ],
            "text/html": [
              "\n",
              "  <div id=\"df-316be671-05bb-46d8-95cf-10124604eb89\" class=\"colab-df-container\">\n",
              "    <div>\n",
              "<style scoped>\n",
              "    .dataframe tbody tr th:only-of-type {\n",
              "        vertical-align: middle;\n",
              "    }\n",
              "\n",
              "    .dataframe tbody tr th {\n",
              "        vertical-align: top;\n",
              "    }\n",
              "\n",
              "    .dataframe thead th {\n",
              "        text-align: right;\n",
              "    }\n",
              "</style>\n",
              "<table border=\"1\" class=\"dataframe\">\n",
              "  <thead>\n",
              "    <tr style=\"text-align: right;\">\n",
              "      <th></th>\n",
              "      <th>longitude</th>\n",
              "      <th>latitude</th>\n",
              "      <th>housing_median_age</th>\n",
              "      <th>total_rooms</th>\n",
              "      <th>total_bedrooms</th>\n",
              "      <th>population</th>\n",
              "      <th>households</th>\n",
              "      <th>median_income</th>\n",
              "      <th>median_house_value</th>\n",
              "    </tr>\n",
              "  </thead>\n",
              "  <tbody>\n",
              "    <tr>\n",
              "      <th>0</th>\n",
              "      <td>-122.05</td>\n",
              "      <td>37.37</td>\n",
              "      <td>27.0</td>\n",
              "      <td>3885.0</td>\n",
              "      <td>661.0</td>\n",
              "      <td>1537.0</td>\n",
              "      <td>606.0</td>\n",
              "      <td>6.6085</td>\n",
              "      <td>344700.0</td>\n",
              "    </tr>\n",
              "    <tr>\n",
              "      <th>1</th>\n",
              "      <td>-118.30</td>\n",
              "      <td>34.26</td>\n",
              "      <td>43.0</td>\n",
              "      <td>1510.0</td>\n",
              "      <td>310.0</td>\n",
              "      <td>809.0</td>\n",
              "      <td>277.0</td>\n",
              "      <td>3.5990</td>\n",
              "      <td>176500.0</td>\n",
              "    </tr>\n",
              "    <tr>\n",
              "      <th>2</th>\n",
              "      <td>-117.81</td>\n",
              "      <td>33.78</td>\n",
              "      <td>27.0</td>\n",
              "      <td>3589.0</td>\n",
              "      <td>507.0</td>\n",
              "      <td>1484.0</td>\n",
              "      <td>495.0</td>\n",
              "      <td>5.7934</td>\n",
              "      <td>270500.0</td>\n",
              "    </tr>\n",
              "    <tr>\n",
              "      <th>3</th>\n",
              "      <td>-118.36</td>\n",
              "      <td>33.82</td>\n",
              "      <td>28.0</td>\n",
              "      <td>67.0</td>\n",
              "      <td>15.0</td>\n",
              "      <td>49.0</td>\n",
              "      <td>11.0</td>\n",
              "      <td>6.1359</td>\n",
              "      <td>330000.0</td>\n",
              "    </tr>\n",
              "    <tr>\n",
              "      <th>4</th>\n",
              "      <td>-119.67</td>\n",
              "      <td>36.33</td>\n",
              "      <td>19.0</td>\n",
              "      <td>1241.0</td>\n",
              "      <td>244.0</td>\n",
              "      <td>850.0</td>\n",
              "      <td>237.0</td>\n",
              "      <td>2.9375</td>\n",
              "      <td>81700.0</td>\n",
              "    </tr>\n",
              "    <tr>\n",
              "      <th>...</th>\n",
              "      <td>...</td>\n",
              "      <td>...</td>\n",
              "      <td>...</td>\n",
              "      <td>...</td>\n",
              "      <td>...</td>\n",
              "      <td>...</td>\n",
              "      <td>...</td>\n",
              "      <td>...</td>\n",
              "      <td>...</td>\n",
              "    </tr>\n",
              "    <tr>\n",
              "      <th>2995</th>\n",
              "      <td>-119.86</td>\n",
              "      <td>34.42</td>\n",
              "      <td>23.0</td>\n",
              "      <td>1450.0</td>\n",
              "      <td>642.0</td>\n",
              "      <td>1258.0</td>\n",
              "      <td>607.0</td>\n",
              "      <td>1.1790</td>\n",
              "      <td>225000.0</td>\n",
              "    </tr>\n",
              "    <tr>\n",
              "      <th>2996</th>\n",
              "      <td>-118.14</td>\n",
              "      <td>34.06</td>\n",
              "      <td>27.0</td>\n",
              "      <td>5257.0</td>\n",
              "      <td>1082.0</td>\n",
              "      <td>3496.0</td>\n",
              "      <td>1036.0</td>\n",
              "      <td>3.3906</td>\n",
              "      <td>237200.0</td>\n",
              "    </tr>\n",
              "    <tr>\n",
              "      <th>2997</th>\n",
              "      <td>-119.70</td>\n",
              "      <td>36.30</td>\n",
              "      <td>10.0</td>\n",
              "      <td>956.0</td>\n",
              "      <td>201.0</td>\n",
              "      <td>693.0</td>\n",
              "      <td>220.0</td>\n",
              "      <td>2.2895</td>\n",
              "      <td>62000.0</td>\n",
              "    </tr>\n",
              "    <tr>\n",
              "      <th>2998</th>\n",
              "      <td>-117.12</td>\n",
              "      <td>34.10</td>\n",
              "      <td>40.0</td>\n",
              "      <td>96.0</td>\n",
              "      <td>14.0</td>\n",
              "      <td>46.0</td>\n",
              "      <td>14.0</td>\n",
              "      <td>3.2708</td>\n",
              "      <td>162500.0</td>\n",
              "    </tr>\n",
              "    <tr>\n",
              "      <th>2999</th>\n",
              "      <td>-119.63</td>\n",
              "      <td>34.42</td>\n",
              "      <td>42.0</td>\n",
              "      <td>1765.0</td>\n",
              "      <td>263.0</td>\n",
              "      <td>753.0</td>\n",
              "      <td>260.0</td>\n",
              "      <td>8.5608</td>\n",
              "      <td>500001.0</td>\n",
              "    </tr>\n",
              "  </tbody>\n",
              "</table>\n",
              "<p>3000 rows × 9 columns</p>\n",
              "</div>\n",
              "    <div class=\"colab-df-buttons\">\n",
              "\n",
              "  <div class=\"colab-df-container\">\n",
              "    <button class=\"colab-df-convert\" onclick=\"convertToInteractive('df-316be671-05bb-46d8-95cf-10124604eb89')\"\n",
              "            title=\"Convert this dataframe to an interactive table.\"\n",
              "            style=\"display:none;\">\n",
              "\n",
              "  <svg xmlns=\"http://www.w3.org/2000/svg\" height=\"24px\" viewBox=\"0 -960 960 960\">\n",
              "    <path d=\"M120-120v-720h720v720H120Zm60-500h600v-160H180v160Zm220 220h160v-160H400v160Zm0 220h160v-160H400v160ZM180-400h160v-160H180v160Zm440 0h160v-160H620v160ZM180-180h160v-160H180v160Zm440 0h160v-160H620v160Z\"/>\n",
              "  </svg>\n",
              "    </button>\n",
              "\n",
              "  <style>\n",
              "    .colab-df-container {\n",
              "      display:flex;\n",
              "      gap: 12px;\n",
              "    }\n",
              "\n",
              "    .colab-df-convert {\n",
              "      background-color: #E8F0FE;\n",
              "      border: none;\n",
              "      border-radius: 50%;\n",
              "      cursor: pointer;\n",
              "      display: none;\n",
              "      fill: #1967D2;\n",
              "      height: 32px;\n",
              "      padding: 0 0 0 0;\n",
              "      width: 32px;\n",
              "    }\n",
              "\n",
              "    .colab-df-convert:hover {\n",
              "      background-color: #E2EBFA;\n",
              "      box-shadow: 0px 1px 2px rgba(60, 64, 67, 0.3), 0px 1px 3px 1px rgba(60, 64, 67, 0.15);\n",
              "      fill: #174EA6;\n",
              "    }\n",
              "\n",
              "    .colab-df-buttons div {\n",
              "      margin-bottom: 4px;\n",
              "    }\n",
              "\n",
              "    [theme=dark] .colab-df-convert {\n",
              "      background-color: #3B4455;\n",
              "      fill: #D2E3FC;\n",
              "    }\n",
              "\n",
              "    [theme=dark] .colab-df-convert:hover {\n",
              "      background-color: #434B5C;\n",
              "      box-shadow: 0px 1px 3px 1px rgba(0, 0, 0, 0.15);\n",
              "      filter: drop-shadow(0px 1px 2px rgba(0, 0, 0, 0.3));\n",
              "      fill: #FFFFFF;\n",
              "    }\n",
              "  </style>\n",
              "\n",
              "    <script>\n",
              "      const buttonEl =\n",
              "        document.querySelector('#df-316be671-05bb-46d8-95cf-10124604eb89 button.colab-df-convert');\n",
              "      buttonEl.style.display =\n",
              "        google.colab.kernel.accessAllowed ? 'block' : 'none';\n",
              "\n",
              "      async function convertToInteractive(key) {\n",
              "        const element = document.querySelector('#df-316be671-05bb-46d8-95cf-10124604eb89');\n",
              "        const dataTable =\n",
              "          await google.colab.kernel.invokeFunction('convertToInteractive',\n",
              "                                                    [key], {});\n",
              "        if (!dataTable) return;\n",
              "\n",
              "        const docLinkHtml = 'Like what you see? Visit the ' +\n",
              "          '<a target=\"_blank\" href=https://colab.research.google.com/notebooks/data_table.ipynb>data table notebook</a>'\n",
              "          + ' to learn more about interactive tables.';\n",
              "        element.innerHTML = '';\n",
              "        dataTable['output_type'] = 'display_data';\n",
              "        await google.colab.output.renderOutput(dataTable, element);\n",
              "        const docLink = document.createElement('div');\n",
              "        docLink.innerHTML = docLinkHtml;\n",
              "        element.appendChild(docLink);\n",
              "      }\n",
              "    </script>\n",
              "  </div>\n",
              "\n",
              "\n",
              "<div id=\"df-d2c0703b-2e1f-4792-aa9e-3da7316ac094\">\n",
              "  <button class=\"colab-df-quickchart\" onclick=\"quickchart('df-d2c0703b-2e1f-4792-aa9e-3da7316ac094')\"\n",
              "            title=\"Suggest charts\"\n",
              "            style=\"display:none;\">\n",
              "\n",
              "<svg xmlns=\"http://www.w3.org/2000/svg\" height=\"24px\"viewBox=\"0 0 24 24\"\n",
              "     width=\"24px\">\n",
              "    <g>\n",
              "        <path d=\"M19 3H5c-1.1 0-2 .9-2 2v14c0 1.1.9 2 2 2h14c1.1 0 2-.9 2-2V5c0-1.1-.9-2-2-2zM9 17H7v-7h2v7zm4 0h-2V7h2v10zm4 0h-2v-4h2v4z\"/>\n",
              "    </g>\n",
              "</svg>\n",
              "  </button>\n",
              "\n",
              "<style>\n",
              "  .colab-df-quickchart {\n",
              "      --bg-color: #E8F0FE;\n",
              "      --fill-color: #1967D2;\n",
              "      --hover-bg-color: #E2EBFA;\n",
              "      --hover-fill-color: #174EA6;\n",
              "      --disabled-fill-color: #AAA;\n",
              "      --disabled-bg-color: #DDD;\n",
              "  }\n",
              "\n",
              "  [theme=dark] .colab-df-quickchart {\n",
              "      --bg-color: #3B4455;\n",
              "      --fill-color: #D2E3FC;\n",
              "      --hover-bg-color: #434B5C;\n",
              "      --hover-fill-color: #FFFFFF;\n",
              "      --disabled-bg-color: #3B4455;\n",
              "      --disabled-fill-color: #666;\n",
              "  }\n",
              "\n",
              "  .colab-df-quickchart {\n",
              "    background-color: var(--bg-color);\n",
              "    border: none;\n",
              "    border-radius: 50%;\n",
              "    cursor: pointer;\n",
              "    display: none;\n",
              "    fill: var(--fill-color);\n",
              "    height: 32px;\n",
              "    padding: 0;\n",
              "    width: 32px;\n",
              "  }\n",
              "\n",
              "  .colab-df-quickchart:hover {\n",
              "    background-color: var(--hover-bg-color);\n",
              "    box-shadow: 0 1px 2px rgba(60, 64, 67, 0.3), 0 1px 3px 1px rgba(60, 64, 67, 0.15);\n",
              "    fill: var(--button-hover-fill-color);\n",
              "  }\n",
              "\n",
              "  .colab-df-quickchart-complete:disabled,\n",
              "  .colab-df-quickchart-complete:disabled:hover {\n",
              "    background-color: var(--disabled-bg-color);\n",
              "    fill: var(--disabled-fill-color);\n",
              "    box-shadow: none;\n",
              "  }\n",
              "\n",
              "  .colab-df-spinner {\n",
              "    border: 2px solid var(--fill-color);\n",
              "    border-color: transparent;\n",
              "    border-bottom-color: var(--fill-color);\n",
              "    animation:\n",
              "      spin 1s steps(1) infinite;\n",
              "  }\n",
              "\n",
              "  @keyframes spin {\n",
              "    0% {\n",
              "      border-color: transparent;\n",
              "      border-bottom-color: var(--fill-color);\n",
              "      border-left-color: var(--fill-color);\n",
              "    }\n",
              "    20% {\n",
              "      border-color: transparent;\n",
              "      border-left-color: var(--fill-color);\n",
              "      border-top-color: var(--fill-color);\n",
              "    }\n",
              "    30% {\n",
              "      border-color: transparent;\n",
              "      border-left-color: var(--fill-color);\n",
              "      border-top-color: var(--fill-color);\n",
              "      border-right-color: var(--fill-color);\n",
              "    }\n",
              "    40% {\n",
              "      border-color: transparent;\n",
              "      border-right-color: var(--fill-color);\n",
              "      border-top-color: var(--fill-color);\n",
              "    }\n",
              "    60% {\n",
              "      border-color: transparent;\n",
              "      border-right-color: var(--fill-color);\n",
              "    }\n",
              "    80% {\n",
              "      border-color: transparent;\n",
              "      border-right-color: var(--fill-color);\n",
              "      border-bottom-color: var(--fill-color);\n",
              "    }\n",
              "    90% {\n",
              "      border-color: transparent;\n",
              "      border-bottom-color: var(--fill-color);\n",
              "    }\n",
              "  }\n",
              "</style>\n",
              "\n",
              "  <script>\n",
              "    async function quickchart(key) {\n",
              "      const quickchartButtonEl =\n",
              "        document.querySelector('#' + key + ' button');\n",
              "      quickchartButtonEl.disabled = true;  // To prevent multiple clicks.\n",
              "      quickchartButtonEl.classList.add('colab-df-spinner');\n",
              "      try {\n",
              "        const charts = await google.colab.kernel.invokeFunction(\n",
              "            'suggestCharts', [key], {});\n",
              "      } catch (error) {\n",
              "        console.error('Error during call to suggestCharts:', error);\n",
              "      }\n",
              "      quickchartButtonEl.classList.remove('colab-df-spinner');\n",
              "      quickchartButtonEl.classList.add('colab-df-quickchart-complete');\n",
              "    }\n",
              "    (() => {\n",
              "      let quickchartButtonEl =\n",
              "        document.querySelector('#df-d2c0703b-2e1f-4792-aa9e-3da7316ac094 button');\n",
              "      quickchartButtonEl.style.display =\n",
              "        google.colab.kernel.accessAllowed ? 'block' : 'none';\n",
              "    })();\n",
              "  </script>\n",
              "</div>\n",
              "\n",
              "  <div id=\"id_0021db90-6f2a-4a3e-81e2-1d0da44440f3\">\n",
              "    <style>\n",
              "      .colab-df-generate {\n",
              "        background-color: #E8F0FE;\n",
              "        border: none;\n",
              "        border-radius: 50%;\n",
              "        cursor: pointer;\n",
              "        display: none;\n",
              "        fill: #1967D2;\n",
              "        height: 32px;\n",
              "        padding: 0 0 0 0;\n",
              "        width: 32px;\n",
              "      }\n",
              "\n",
              "      .colab-df-generate:hover {\n",
              "        background-color: #E2EBFA;\n",
              "        box-shadow: 0px 1px 2px rgba(60, 64, 67, 0.3), 0px 1px 3px 1px rgba(60, 64, 67, 0.15);\n",
              "        fill: #174EA6;\n",
              "      }\n",
              "\n",
              "      [theme=dark] .colab-df-generate {\n",
              "        background-color: #3B4455;\n",
              "        fill: #D2E3FC;\n",
              "      }\n",
              "\n",
              "      [theme=dark] .colab-df-generate:hover {\n",
              "        background-color: #434B5C;\n",
              "        box-shadow: 0px 1px 3px 1px rgba(0, 0, 0, 0.15);\n",
              "        filter: drop-shadow(0px 1px 2px rgba(0, 0, 0, 0.3));\n",
              "        fill: #FFFFFF;\n",
              "      }\n",
              "    </style>\n",
              "    <button class=\"colab-df-generate\" onclick=\"generateWithVariable('d')\"\n",
              "            title=\"Generate code using this dataframe.\"\n",
              "            style=\"display:none;\">\n",
              "\n",
              "  <svg xmlns=\"http://www.w3.org/2000/svg\" height=\"24px\"viewBox=\"0 0 24 24\"\n",
              "       width=\"24px\">\n",
              "    <path d=\"M7,19H8.4L18.45,9,17,7.55,7,17.6ZM5,21V16.75L18.45,3.32a2,2,0,0,1,2.83,0l1.4,1.43a1.91,1.91,0,0,1,.58,1.4,1.91,1.91,0,0,1-.58,1.4L9.25,21ZM18.45,9,17,7.55Zm-12,3A5.31,5.31,0,0,0,4.9,8.1,5.31,5.31,0,0,0,1,6.5,5.31,5.31,0,0,0,4.9,4.9,5.31,5.31,0,0,0,6.5,1,5.31,5.31,0,0,0,8.1,4.9,5.31,5.31,0,0,0,12,6.5,5.46,5.46,0,0,0,6.5,12Z\"/>\n",
              "  </svg>\n",
              "    </button>\n",
              "    <script>\n",
              "      (() => {\n",
              "      const buttonEl =\n",
              "        document.querySelector('#id_0021db90-6f2a-4a3e-81e2-1d0da44440f3 button.colab-df-generate');\n",
              "      buttonEl.style.display =\n",
              "        google.colab.kernel.accessAllowed ? 'block' : 'none';\n",
              "\n",
              "      buttonEl.onclick = () => {\n",
              "        google.colab.notebook.generateWithVariable('d');\n",
              "      }\n",
              "      })();\n",
              "    </script>\n",
              "  </div>\n",
              "\n",
              "    </div>\n",
              "  </div>\n"
            ],
            "application/vnd.google.colaboratory.intrinsic+json": {
              "type": "dataframe",
              "variable_name": "d",
              "summary": "{\n  \"name\": \"d\",\n  \"rows\": 3000,\n  \"fields\": [\n    {\n      \"column\": \"longitude\",\n      \"properties\": {\n        \"dtype\": \"number\",\n        \"std\": 1.9949362939550175,\n        \"min\": -124.18,\n        \"max\": -114.49,\n        \"num_unique_values\": 607,\n        \"samples\": [\n          -121.15,\n          -121.46,\n          -121.02\n        ],\n        \"semantic_type\": \"\",\n        \"description\": \"\"\n      }\n    },\n    {\n      \"column\": \"latitude\",\n      \"properties\": {\n        \"dtype\": \"number\",\n        \"std\": 2.129669523343834,\n        \"min\": 32.56,\n        \"max\": 41.92,\n        \"num_unique_values\": 587,\n        \"samples\": [\n          40.17,\n          33.69,\n          39.61\n        ],\n        \"semantic_type\": \"\",\n        \"description\": \"\"\n      }\n    },\n    {\n      \"column\": \"housing_median_age\",\n      \"properties\": {\n        \"dtype\": \"number\",\n        \"std\": 12.555395554955753,\n        \"min\": 1.0,\n        \"max\": 52.0,\n        \"num_unique_values\": 52,\n        \"samples\": [\n          14.0,\n          49.0,\n          7.0\n        ],\n        \"semantic_type\": \"\",\n        \"description\": \"\"\n      }\n    },\n    {\n      \"column\": \"total_rooms\",\n      \"properties\": {\n        \"dtype\": \"number\",\n        \"std\": 2155.593331625581,\n        \"min\": 6.0,\n        \"max\": 30450.0,\n        \"num_unique_values\": 2215,\n        \"samples\": [\n          1961.0,\n          1807.0,\n          680.0\n        ],\n        \"semantic_type\": \"\",\n        \"description\": \"\"\n      }\n    },\n    {\n      \"column\": \"total_bedrooms\",\n      \"properties\": {\n        \"dtype\": \"number\",\n        \"std\": 415.6543681363229,\n        \"min\": 2.0,\n        \"max\": 5419.0,\n        \"num_unique_values\": 1055,\n        \"samples\": [\n          532.0,\n          764.0,\n          2162.0\n        ],\n        \"semantic_type\": \"\",\n        \"description\": \"\"\n      }\n    },\n    {\n      \"column\": \"population\",\n      \"properties\": {\n        \"dtype\": \"number\",\n        \"std\": 1030.5430124122424,\n        \"min\": 5.0,\n        \"max\": 11935.0,\n        \"num_unique_values\": 1802,\n        \"samples\": [\n          947.0,\n          1140.0,\n          2019.0\n        ],\n        \"semantic_type\": \"\",\n        \"description\": \"\"\n      }\n    },\n    {\n      \"column\": \"households\",\n      \"properties\": {\n        \"dtype\": \"number\",\n        \"std\": 365.42270980552627,\n        \"min\": 2.0,\n        \"max\": 4930.0,\n        \"num_unique_values\": 1026,\n        \"samples\": [\n          646.0,\n          629.0,\n          504.0\n        ],\n        \"semantic_type\": \"\",\n        \"description\": \"\"\n      }\n    },\n    {\n      \"column\": \"median_income\",\n      \"properties\": {\n        \"dtype\": \"number\",\n        \"std\": 1.854511729691479,\n        \"min\": 0.4999,\n        \"max\": 15.0001,\n        \"num_unique_values\": 2578,\n        \"samples\": [\n          1.725,\n          0.7403,\n          2.6964\n        ],\n        \"semantic_type\": \"\",\n        \"description\": \"\"\n      }\n    },\n    {\n      \"column\": \"median_house_value\",\n      \"properties\": {\n        \"dtype\": \"number\",\n        \"std\": 113119.68746964628,\n        \"min\": 22500.0,\n        \"max\": 500001.0,\n        \"num_unique_values\": 1784,\n        \"samples\": [\n          71900.0,\n          63000.0,\n          115800.0\n        ],\n        \"semantic_type\": \"\",\n        \"description\": \"\"\n      }\n    }\n  ]\n}"
            }
          },
          "metadata": {},
          "execution_count": 29
        }
      ]
    },
    {
      "cell_type": "code",
      "source": [
        "print(\"1.Mean of Longitude is\",np.mean(d['longitude']))\n",
        "print(\"2.Mean of Latitude is\",np.mean(d['latitude']))\n",
        "print(\"3.Mean of Housing Median Age is\",np.mean(d['housing_median_age']))\n",
        "print(\"4.Mean of Total Rooms is\",np.mean(d['total_rooms']))\n",
        "print(\"5.Mean of Total Bedrooms is\",np.mean(d['total_bedrooms']))\n",
        "print(\"6.Mean of Population is\",np.mean(d['population']))\n",
        "print(\"7.Mean of Households is\",np.mean(d['households']))\n",
        "print(\"8.Mean of Median Income is\",np.mean(d['median_income']))\n",
        "print(\"9.Mean of Median House_value is\",np.mean(d['median_house_value']))"
      ],
      "metadata": {
        "colab": {
          "base_uri": "https://localhost:8080/"
        },
        "id": "XQVk2RlT6hN9",
        "outputId": "7ce263d7-bb11-4a5d-bd89-8a7a536f9346"
      },
      "execution_count": null,
      "outputs": [
        {
          "output_type": "stream",
          "name": "stdout",
          "text": [
            "1.Mean of Longitude is -119.58919999999999\n",
            "2.Mean of Latitude is 35.635389999999994\n",
            "3.Mean of Housing Median Age is 28.845333333333333\n",
            "4.Mean of Total Rooms is 2599.578666666667\n",
            "5.Mean of Total Bedrooms is 529.9506666666666\n",
            "6.Mean of Population is 1402.7986666666666\n",
            "7.Mean of Households is 489.912\n",
            "8.Mean of Median Income is 3.8072717999999997\n",
            "9.Mean of Median House_value is 205846.275\n"
          ]
        }
      ]
    },
    {
      "cell_type": "code",
      "source": [
        "print(\"1.Median of Longitude is = \",np.median(d['longitude']))\n",
        "print(\"2.Median of Latitude is = \",np.median(d['latitude']))\n",
        "print(\"3.Median of Housing Median Age is = \",np.median(d['housing_median_age']))\n",
        "print(\"4.Median of Total Rooms is = \",np.median(d['total_rooms']))\n",
        "print(\"5.Median of Total Bedrooms is = \",np.median(d['total_bedrooms']))\n",
        "print(\"6.Median of population is = \",np.median(d['population']))\n",
        "print(\"7.Median of Households is = \",np.median(d['households']))\n",
        "print(\"8.Median of Median Income is = \",np.median(d['median_income']))\n",
        "print(\"9.Median of Median House Value is = \",np.median(d['median_house_value']))"
      ],
      "metadata": {
        "colab": {
          "base_uri": "https://localhost:8080/"
        },
        "id": "Ksi65S3r6vfw",
        "outputId": "ea194741-2959-4bfa-8a36-4323197ac088"
      },
      "execution_count": null,
      "outputs": [
        {
          "output_type": "stream",
          "name": "stdout",
          "text": [
            "1.Median of Longitude is =  -118.485\n",
            "2.Median of Latitude is =  34.27\n",
            "3.Median of Housing Median Age is =  29.0\n",
            "4.Median of Total Rooms is =  2106.0\n",
            "5.Median of Total Bedrooms is =  437.0\n",
            "6.Median of population is =  1155.0\n",
            "7.Median of Households is =  409.5\n",
            "8.Median of Median Income is =  3.4871499999999997\n",
            "9.Median of Median House Value is =  177650.0\n"
          ]
        }
      ]
    },
    {
      "cell_type": "code",
      "source": [
        "print(\"1.Mode of Longitude is = \",s.mode(d['longitude']))\n",
        "print(\"2.Mode of Latitude is = \",s.mode(d['latitude']))\n",
        "print(\"3.Mode of Housing Median Age is = \",s.mode(d['housing_median_age']))\n",
        "print(\"4.Mode of Total Rooms is = \",s.mode(d['total_rooms']))\n",
        "print(\"5.Mode of Total Bedrooms is = \",s.mode(d['total_bedrooms']))\n",
        "print(\"6.Mode of Population is = \",s.mode(d['population']))\n",
        "print(\"7.Mode of Households is = \",s.mode(d['households']))\n",
        "print(\"8.Mode of Median Income is = \",s.mode(d['median_income']))\n",
        "print(\"9.Mode of Median House Value is = \",s.mode(d['median_house_value']))"
      ],
      "metadata": {
        "colab": {
          "base_uri": "https://localhost:8080/"
        },
        "id": "FeQ7mzW4_Ah5",
        "outputId": "fb771deb-6ae5-4c98-c169-f9074991997c"
      },
      "execution_count": null,
      "outputs": [
        {
          "output_type": "stream",
          "name": "stdout",
          "text": [
            "1.Mode of Longitude is =  ModeResult(mode=-118.31, count=136)\n",
            "2.Mode of Latitude is =  ModeResult(mode=34.06, count=205)\n",
            "3.Mode of Housing Median Age is =  ModeResult(mode=52.0, count=1052)\n",
            "4.Mode of Total Rooms is =  ModeResult(mode=1582.0, count=16)\n",
            "5.Mode of Total Bedrooms is =  ModeResult(mode=280.0, count=48)\n",
            "6.Mode of Population is =  ModeResult(mode=891.0, count=23)\n",
            "7.Mode of Households is =  ModeResult(mode=306.0, count=48)\n",
            "8.Mode of Median Income is =  ModeResult(mode=3.125, count=41)\n",
            "9.Mode of Median House Value is =  ModeResult(mode=500001.0, count=814)\n"
          ]
        }
      ]
    },
    {
      "cell_type": "code",
      "source": [
        "print(\"1.Variance of Longitude is = \",np.var(d['longitude']))\n",
        "print(\"2.Variance of Latitude is = \",np.var(d['latitude']))\n",
        "print(\"3.Variance of Housing Median_age is = \",np.var(d['housing_median_age']))\n",
        "print(\"4.Variance of Total Rooms is = \",np.var(d['total_rooms']))\n",
        "print(\"5.Variance of Total Bedrooms is = \",np.var(d['total_bedrooms']))\n",
        "print(\"6.Variance of Population is = \",np.var(d['population']))\n",
        "print(\"7.Variance of Households is = \",np.var(d['households']))\n",
        "print(\"8.Variance of Median Income is = \",np.var(d['median_income']))\n",
        "print(\"9.Variance of Median House Value is = \",np.var(d['median_house_value']))"
      ],
      "metadata": {
        "colab": {
          "base_uri": "https://localhost:8080/"
        },
        "id": "eiSof9ot_S52",
        "outputId": "79afa943-33fd-454d-eda6-76d1f8b99f32"
      },
      "execution_count": null,
      "outputs": [
        {
          "output_type": "stream",
          "name": "stdout",
          "text": [
            "1.Variance of Longitude is =  3.9784442266666673\n",
            "2.Variance of Latitude is =  4.5339804479\n",
            "3.Variance of Housing Median_age is =  157.58541155555554\n",
            "4.Variance of Total Rooms is =  4645033.750478223\n",
            "5.Variance of Total Bedrooms is =  172710.9642328889\n",
            "6.Variance of Population is =  1061664.8941315555\n",
            "7.Variance of Households is =  133489.24558933332\n",
            "8.Variance of Median Income is =  3.4380673509780935\n",
            "9.Variance of Median House Value is =  12791798338.666039\n"
          ]
        }
      ]
    },
    {
      "cell_type": "code",
      "source": [
        "print(\"1.Standard deviation of Longitude is = \",np.std(d['longitude']))\n",
        "print(\"2.Standard deviation of Latitude is = \",np.std(d['latitude']))\n",
        "print(\"3.Standard deviation of Housing Median Age is = \",np.std(d['housing_median_age']))\n",
        "print(\"4.Standard deviation of Total Rooms is = \",np.std(d['total_rooms']))\n",
        "print(\"5.Standard deviation of Total Bedrooms is = \",np.std(d['total_bedrooms']))\n",
        "print(\"6.Standard deviation of Population is = \",np.std(d['population']))\n",
        "print(\"7.Standard deviation of Households is = \",np.std(d['households']))\n",
        "print(\"8.Standard deviation of Median Income is = \",np.std(d['median_income']))\n",
        "print(\"9.Standard deviation of Median House Value is = \",np.std(d['median_house_value']))"
      ],
      "metadata": {
        "colab": {
          "base_uri": "https://localhost:8080/"
        },
        "id": "AZ1IHMl3BXyA",
        "outputId": "1199d8a1-0e30-4728-b36a-9c4759978618"
      },
      "execution_count": null,
      "outputs": [
        {
          "output_type": "stream",
          "name": "stdout",
          "text": [
            "1.Standard deviation of Longitude is =  1.9946037768606244\n",
            "2.Standard deviation of Latitude is =  2.1293145488396026\n",
            "3.Standard deviation of Housing Median Age is =  12.553302814620363\n",
            "4.Standard deviation of Total Rooms is =  2155.2340361265233\n",
            "5.Standard deviation of Total Bedrooms is =  415.58508663436044\n",
            "6.Standard deviation of Population is =  1030.3712409280238\n",
            "7.Standard deviation of Households is =  365.3618009443972\n",
            "8.Standard deviation of Median Income is =  1.854202618641796\n",
            "9.Standard deviation of Median House Value is =  113100.83261703266\n"
          ]
        }
      ]
    },
    {
      "cell_type": "code",
      "source": [
        "print(\"1.Range of Longitude is = \",max(d['longitude'])-min(d['longitude']))\n",
        "print(\"2.Range of Latitude is  = \",max(d['latitude'])-min(d['latitude']))\n",
        "print(\"3.Range of Housing Median Age is = \",max(d['housing_median_age'])-min(d['housing_median_age']))\n",
        "print(\"4.Range of Total Rooms is = \",max(d['total_rooms'])-min(d['total_rooms']))\n",
        "print(\"5.Range of Total Bedrooms is = \",max(d['total_bedrooms'])-min(d['total_bedrooms']))\n",
        "print(\"6.Range of Population is = \",max(d['population'])-min(d['population']))\n",
        "print(\"7.Range of Households is = \",max(d['households'])-min(d['households']))\n",
        "print(\"8.Range of Median Income is = \",max(d['median_income'])-min(d['median_income']))\n",
        "print(\"9.Range of Median House Value is = \",max(d['median_house_value'])-min(d['median_house_value']))"
      ],
      "metadata": {
        "colab": {
          "base_uri": "https://localhost:8080/"
        },
        "id": "v33Og8H6B5S2",
        "outputId": "0ee9bb9f-dbf0-4282-8d2d-e433e7125281"
      },
      "execution_count": null,
      "outputs": [
        {
          "output_type": "stream",
          "name": "stdout",
          "text": [
            "1.Range of Longitude is =  9.690000000000012\n",
            "2.Range of Latitude is  =  9.36\n",
            "3.Range of Housing Median Age is =  51.0\n",
            "4.Range of Total Rooms is =  30444.0\n",
            "5.Range of Total Bedrooms is =  5417.0\n",
            "6.Range of Population is =  11930.0\n",
            "7.Range of Households is =  4928.0\n",
            "8.Range of Median Income is =  14.5002\n",
            "9.Range of Median House Value is =  477501.0\n"
          ]
        }
      ]
    },
    {
      "cell_type": "code",
      "source": [
        "print(\"1.Interquartile range of Longitude is = \",np.percentile(d['longitude'],75)-np.percentile(d['longitude'],25))\n",
        "print(\"2.Interquartile range of Latitude is = \",np.percentile(d['latitude'],75)-np.percentile(d['latitude'],25))\n",
        "print(\"3.Interquartile range of Housing Median Age is = \",np.percentile(d['housing_median_age'],75)-np.percentile(d['housing_median_age'],25))\n",
        "print(\"4.Interquartile range of Total Rooms is = \",np.percentile(d['total_rooms'],75)-np.percentile(d['total_rooms'],25))\n",
        "print(\"5.Interquartile range of Total Bedrooms is = \",np.percentile(d['total_bedrooms'],75)-np.percentile(d['total_bedrooms'],25))\n",
        "print(\"6.Interquartile range of Population is = \",np.percentile(d['population'],75)-np.percentile(d['population'],25))\n",
        "print(\"7.Interquartile range of Households is = \",np.percentile(d['households'],75)-np.percentile(d['households'],25))\n",
        "print(\"8.Interquartile range of Median Income is = \",np.percentile(d['median_income'],75)-np.percentile(d['median_income'],25))\n",
        "print(\"9.Interquartile range of Median House_value is = \",np.percentile(d['median_house_value'],75)-np.percentile(d['median_house_value'],25))"
      ],
      "metadata": {
        "colab": {
          "base_uri": "https://localhost:8080/"
        },
        "id": "3wQQhrP3CVpr",
        "outputId": "e575f234-3cd9-4558-a41d-c3797d366e9b"
      },
      "execution_count": null,
      "outputs": [
        {
          "output_type": "stream",
          "name": "stdout",
          "text": [
            "1.Interquartile range of Longitude is =  3.7900000000000063\n",
            "2.Interquartile range of Latitude is =  3.759999999999998\n",
            "3.Interquartile range of Housing Median Age is =  19.0\n",
            "4.Interquartile range of Total Rooms is =  1728.0\n",
            "5.Interquartile range of Total Bedrooms is =  345.0\n",
            "6.Interquartile range of Population is =  962.75\n",
            "7.Interquartile range of Households is =  324.25\n",
            "8.Interquartile range of Median Income is =  2.112475\n",
            "9.Interquartile range of Median House_value is =  142775.0\n"
          ]
        }
      ]
    },
    {
      "cell_type": "code",
      "source": [
        "print(\"1.Skewness of Longitude is \",s.skew(d['longitude']))\n",
        "print(\"2.Skewness of Latitude is \",s.skew(d['latitude']))\n",
        "print(\"3.Skewness of Housing Median Age is \",s.skew(d['housing_median_age']))\n",
        "print(\"4.Skewness of Total Rooms is \",s.skew(d['total_rooms']))\n",
        "print(\"5.Skewness of Total Bedrooms is \",s.skew(d['total_bedrooms']))\n",
        "print(\"6.Skewness of Population is \",s.skew(d['population']))\n",
        "print(\"7.Skewness of Households is \",s.skew(d['households']))\n",
        "print(\"8.Skewness of Median Income is \",s.skew(d['median_income']))\n",
        "print(\"9.Skewness of Median House Value is \",s.skew(d['median_house_value']))"
      ],
      "metadata": {
        "colab": {
          "base_uri": "https://localhost:8080/"
        },
        "id": "y8UdsGP_CxrD",
        "outputId": "00b3cadc-7a23-4b7e-9980-728287a5e580"
      },
      "execution_count": null,
      "outputs": [
        {
          "output_type": "stream",
          "name": "stdout",
          "text": [
            "1.Skewness of Longitude is  -0.29770868312210047\n",
            "2.Skewness of Latitude is  0.45958599688301055\n",
            "3.Skewness of Housing Median Age is  0.01850386331347812\n",
            "4.Skewness of Total Rooms is  4.165553250335494\n",
            "5.Skewness of Total Bedrooms is  3.861461224097534\n",
            "6.Skewness of Population is  2.9481956505974214\n",
            "7.Skewness of Households is  3.5579732876776733\n",
            "8.Skewness of Median Income is  1.697662360984838\n",
            "9.Skewness of Median House Value is  0.9890670635093471\n"
          ]
        }
      ]
    },
    {
      "cell_type": "code",
      "source": [
        "print(\"1.Kurtosis of Longitude is \",s.kurtosis(d['longitude']))\n",
        "print(\"2.Kurtosis of Latitude is \",s.kurtosis(d['latitude']))\n",
        "print(\"3.Kurtosis of Housing Median Age is \",s.kurtosis(d['housing_median_age']))\n",
        "print(\"4.Kurtosis of Total Rooms is \",s.kurtosis(d['total_bedrooms']))\n",
        "print(\"5.Kurtosis of Total Bedrooms is \",s.kurtosis(d['total_rooms']))\n",
        "print(\"6.Kurtosis of Population is \",s.kurtosis(d['population']))\n",
        "print(\"7.Kurtosis of Households is \",s.kurtosis(d['households']))\n",
        "print(\"8.Kurtosis of Median Income is \",s.kurtosis(d['median_income']))\n",
        "print(\"9.Kurtosis of Median House_value is \",s.kurtosis(d['median_house_value']))"
      ],
      "metadata": {
        "colab": {
          "base_uri": "https://localhost:8080/"
        },
        "id": "aOpD6h0VC-lr",
        "outputId": "2ca9415d-3075-4259-fe3b-bd1ebfae72b7"
      },
      "execution_count": null,
      "outputs": [
        {
          "output_type": "stream",
          "name": "stdout",
          "text": [
            "1.Kurtosis of Longitude is  -1.3625007669256197\n",
            "2.Kurtosis of Latitude is  -1.1244987241902247\n",
            "3.Kurtosis of Housing Median Age is  -0.8044440474433037\n",
            "4.Kurtosis of Total Rooms is  28.48753189248459\n",
            "5.Kurtosis of Total Bedrooms is  32.044466669077906\n",
            "6.Kurtosis of Population is  16.41387618265221\n",
            "7.Kurtosis of Households is  26.18366680809118\n",
            "8.Kurtosis of Median Income is  5.614812216724314\n",
            "9.Kurtosis of Median House_value is  0.3927409720063544\n"
          ]
        }
      ]
    }
  ]
}